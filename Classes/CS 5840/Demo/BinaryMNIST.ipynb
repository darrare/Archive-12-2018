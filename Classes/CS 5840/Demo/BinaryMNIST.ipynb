{
 "cells": [
  {
   "cell_type": "markdown",
   "metadata": {},
   "source": [
    "### Binary Classification with MNIST Dataset and Keras\n",
    "This script sets up a simple linear classifier to classify digits from the classic MNIST dataset."
   ]
  },
  {
   "cell_type": "code",
   "execution_count": 82,
   "metadata": {
    "collapsed": true
   },
   "outputs": [],
   "source": [
    "import keras\n",
    "from keras.datasets import mnist\n",
    "from keras.models import Model\n",
    "from keras.layers import Input, Dense\n",
    "from keras.optimizers import SGD\n",
    "from matplotlib import pyplot as plt\n",
    "import numpy as np"
   ]
  },
  {
   "cell_type": "markdown",
   "metadata": {},
   "source": [
    "Use a Keras utility function to load the MNIST dataset.  We select only zeros and ones to do binary classification."
   ]
  },
  {
   "cell_type": "code",
   "execution_count": 95,
   "metadata": {
    "collapsed": true
   },
   "outputs": [],
   "source": [
    "(x_train, y_train), (x_test, y_test) = mnist.load_data()\n",
    "# select only zeros and ones\n",
    "x_train = x_train[y_train<2]\n",
    "y_train = y_train[y_train<2]\n",
    "x_test = x_test[y_test<2]\n",
    "y_test = y_test[y_test<2]"
   ]
  },
  {
   "cell_type": "code",
   "execution_count": 96,
   "metadata": {},
   "outputs": [
    {
     "data": {
      "image/png": "[encoded data removed]",
      "text/plain": [
       "<matplotlib.figure.Figure at 0x11a3821d0>"
      ]
     },
     "metadata": {},
     "output_type": "display_data"
    }
   ],
   "source": [
    "plt.imshow(x_train[0])\n",
    "plt.show()"
   ]
  },
  {
   "cell_type": "code",
   "execution_count": 97,
   "metadata": {},
   "outputs": [
    {
     "data": {
      "image/png": "[encoded data removed]",
      "text/plain": [
       "<matplotlib.figure.Figure at 0x11a5f1310>"
      ]
     },
     "metadata": {},
     "output_type": "display_data"
    }
   ],
   "source": [
    "plt.imshow(x_train[1])\n",
    "plt.show()"
   ]
  },
  {
   "cell_type": "markdown",
   "metadata": {},
   "source": [
    "Resize the images to vectors and convert their datatype and range."
   ]
  },
  {
   "cell_type": "code",
   "execution_count": 98,
   "metadata": {
    "collapsed": true
   },
   "outputs": [],
   "source": [
    "x_train = x_train.reshape(len(x_train), 784)\n",
    "x_test = x_test.reshape(len(x_test), 784)\n",
    "x_train = x_train.astype('float32')\n",
    "x_test = x_test.astype('float32')\n",
    "x_train /= 255\n",
    "x_test /= 255"
   ]
  },
  {
   "cell_type": "markdown",
   "metadata": {
    "collapsed": true
   },
   "source": [
    "Build a binary linear classifier model."
   ]
  },
  {
   "cell_type": "code",
   "execution_count": 99,
   "metadata": {
    "collapsed": true
   },
   "outputs": [],
   "source": [
    "x_in = Input((784,))\n",
    "x_out = Dense(1,activation='sigmoid')(x_in)\n",
    "model = Model(inputs=x_in,outputs=x_out)"
   ]
  },
  {
   "cell_type": "markdown",
   "metadata": {},
   "source": [
    "Set up the model to optimize the binary crossentropy loss using stochastic gradient descent."
   ]
  },
  {
   "cell_type": "code",
   "execution_count": 100,
   "metadata": {
    "collapsed": true
   },
   "outputs": [],
   "source": [
    "model.compile(loss='binary_crossentropy',\n",
    "              optimizer=SGD(),\n",
    "              metrics=['accuracy'])"
   ]
  },
  {
   "cell_type": "markdown",
   "metadata": {},
   "source": [
    "Optimize the model over the training data."
   ]
  },
  {
   "cell_type": "code",
   "execution_count": 101,
   "metadata": {},
   "outputs": [
    {
     "name": "stdout",
     "output_type": "stream",
     "text": [
      "Train on 12665 samples, validate on 2115 samples\n",
      "Epoch 1/20\n",
      "12665/12665 [==============================] - 0s - loss: 0.2332 - acc: 0.9667 - val_loss: 0.0929 - val_acc: 0.9986\n",
      "Epoch 2/20\n",
      "12665/12665 [==============================] - 0s - loss: 0.0750 - acc: 0.9964 - val_loss: 0.0520 - val_acc: 0.9986\n",
      "Epoch 3/20\n",
      "12665/12665 [==============================] - 0s - loss: 0.0500 - acc: 0.9965 - val_loss: 0.0373 - val_acc: 0.9986\n",
      "Epoch 4/20\n",
      "12665/12665 [==============================] - 0s - loss: 0.0389 - acc: 0.9969 - val_loss: 0.0295 - val_acc: 0.9986\n",
      "Epoch 5/20\n",
      "12665/12665 [==============================] - 0s - loss: 0.0326 - acc: 0.9972 - val_loss: 0.0247 - val_acc: 0.9986\n",
      "Epoch 6/20\n",
      "12665/12665 [==============================] - 0s - loss: 0.0284 - acc: 0.9972 - val_loss: 0.0214 - val_acc: 0.9986\n",
      "Epoch 7/20\n",
      "12665/12665 [==============================] - 0s - loss: 0.0254 - acc: 0.9972 - val_loss: 0.0190 - val_acc: 0.9986\n",
      "Epoch 8/20\n",
      "12665/12665 [==============================] - 0s - loss: 0.0231 - acc: 0.9974 - val_loss: 0.0172 - val_acc: 0.9991\n",
      "Epoch 9/20\n",
      "12665/12665 [==============================] - 0s - loss: 0.0213 - acc: 0.9974 - val_loss: 0.0157 - val_acc: 0.9991\n",
      "Epoch 10/20\n",
      "12665/12665 [==============================] - 0s - loss: 0.0199 - acc: 0.9976 - val_loss: 0.0145 - val_acc: 0.9991\n",
      "Epoch 11/20\n",
      "12665/12665 [==============================] - 0s - loss: 0.0187 - acc: 0.9975 - val_loss: 0.0136 - val_acc: 0.9991\n",
      "Epoch 12/20\n",
      "12665/12665 [==============================] - 0s - loss: 0.0177 - acc: 0.9976 - val_loss: 0.0127 - val_acc: 0.9991\n",
      "Epoch 13/20\n",
      "12665/12665 [==============================] - 0s - loss: 0.0168 - acc: 0.9976 - val_loss: 0.0120 - val_acc: 0.9991\n",
      "Epoch 14/20\n",
      "12665/12665 [==============================] - 0s - loss: 0.0161 - acc: 0.9976 - val_loss: 0.0114 - val_acc: 0.9991\n",
      "Epoch 15/20\n",
      "12665/12665 [==============================] - 0s - loss: 0.0154 - acc: 0.9976 - val_loss: 0.0109 - val_acc: 0.9991\n",
      "Epoch 16/20\n",
      "12665/12665 [==============================] - 0s - loss: 0.0148 - acc: 0.9976 - val_loss: 0.0104 - val_acc: 0.9991\n",
      "Epoch 17/20\n",
      "12665/12665 [==============================] - 0s - loss: 0.0143 - acc: 0.9977 - val_loss: 0.0100 - val_acc: 0.9991\n",
      "Epoch 18/20\n",
      "12665/12665 [==============================] - 0s - loss: 0.0139 - acc: 0.9977 - val_loss: 0.0096 - val_acc: 0.9991\n",
      "Epoch 19/20\n",
      "12665/12665 [==============================] - 0s - loss: 0.0134 - acc: 0.9977 - val_loss: 0.0092 - val_acc: 0.9991\n",
      "Epoch 20/20\n",
      "12665/12665 [==============================] - 0s - loss: 0.0131 - acc: 0.9977 - val_loss: 0.0089 - val_acc: 0.9991\n"
     ]
    }
   ],
   "source": [
    "history = model.fit(x_train, y_train,\n",
    "                    batch_size=100,\n",
    "                    epochs=20,\n",
    "                    verbose=1,\n",
    "                    validation_data=(x_test, y_test))"
   ]
  },
  {
   "cell_type": "code",
   "execution_count": 102,
   "metadata": {},
   "outputs": [
    {
     "data": {
      "image/png": "[encoded data removed]",
      "text/plain": [
       "<matplotlib.figure.Figure at 0x11a5e9490>"
      ]
     },
     "metadata": {},
     "output_type": "display_data"
    }
   ],
   "source": [
    "plt.plot(history.history['loss'])\n",
    "plt.plot(history.history['val_loss'])\n",
    "plt.legend(['Training Loss','Testing Loss'])\n",
    "plt.xlabel('Epoch')\n",
    "plt.ylabel('Loss')\n",
    "plt.show()"
   ]
  },
  {
   "cell_type": "code",
   "execution_count": 103,
   "metadata": {},
   "outputs": [
    {
     "data": {
      "image/png": "[encoded data removed]",
      "text/plain": [
       "<matplotlib.figure.Figure at 0x11c507890>"
      ]
     },
     "metadata": {},
     "output_type": "display_data"
    }
   ],
   "source": [
    "plt.plot(history.history['acc'])\n",
    "plt.plot(history.history['val_acc'])\n",
    "plt.legend(['Training Accuracy','Testing Accuracy'])\n",
    "plt.xlabel('Epoch')\n",
    "plt.ylabel('Accuracy')\n",
    "plt.show()"
   ]
  },
  {
   "cell_type": "markdown",
   "metadata": {},
   "source": [
    "Show the filter that was learned."
   ]
  },
  {
   "cell_type": "code",
   "execution_count": 104,
   "metadata": {
    "collapsed": true
   },
   "outputs": [],
   "source": [
    "filt = np.reshape(model.get_weights()[0],(28,28))\n",
    "bias = model.get_weights()[1]"
   ]
  },
  {
   "cell_type": "code",
   "execution_count": 105,
   "metadata": {},
   "outputs": [
    {
     "data": {
      "image/png": "[encoded data removed]",
      "text/plain": [
       "<matplotlib.figure.Figure at 0x11c507f90>"
      ]
     },
     "metadata": {},
     "output_type": "display_data"
    }
   ],
   "source": [
    "plt.imshow(filt)\n",
    "plt.show()"
   ]
  },
  {
   "cell_type": "code",
   "execution_count": null,
   "metadata": {
    "collapsed": true
   },
   "outputs": [],
   "source": []
  }
 ],
 "metadata": {
  "kernelspec": {
   "display_name": "Python 3",
   "language": "python",
   "name": "python3"
  },
  "language_info": {
   "codemirror_mode": {
    "name": "ipython",
    "version": 3
   },
   "file_extension": ".py",
   "mimetype": "text/x-python",
   "name": "python",
   "nbconvert_exporter": "python",
   "pygments_lexer": "ipython3",
   "version": "3.6.1"
  }
 },
 "nbformat": 4,
 "nbformat_minor": 2
}
