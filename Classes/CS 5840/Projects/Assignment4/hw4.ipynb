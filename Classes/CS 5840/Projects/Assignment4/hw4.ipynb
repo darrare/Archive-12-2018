{
 "cells": [
  {
   "cell_type": "code",
   "execution_count": 57,
   "metadata": {},
   "outputs": [],
   "source": [
    "import keras\n",
    "import numpy as np\n",
    "import matplotlib as mpl\n",
    "from matplotlib import pyplot as plt"
   ]
  },
  {
   "cell_type": "markdown",
   "metadata": {},
   "source": [
    "### Step 1: Load the att_faces dataset.\n",
    "A data loading function is already provided in loader.py.  It uses the first 8 images for each identity as training images; the 9th image for validation, and the 10th image for testing.  The images are downsampled and padded to have size 28x28 (same as MNIST)."
   ]
  },
  {
   "cell_type": "code",
   "execution_count": 58,
   "metadata": {},
   "outputs": [
    {
     "data": {
      "image/png": "[encoded data removed]",
      "text/plain": [
       "<matplotlib.figure.Figure at 0x239e79ddd68>"
      ]
     },
     "metadata": {},
     "output_type": "display_data"
    }
   ],
   "source": [
    "from loader import load_att_faces\n",
    "(x_train, y_train), (x_val, y_val), (x_test, y_test) = load_att_faces()\n",
    "\n",
    "plt.imshow(x_train[0])\n",
    "plt.show()\n"
   ]
  },
  {
   "cell_type": "markdown",
   "metadata": {},
   "source": [
    "### Step 2: Calculate the average intensity for the training images and subtract it from all images."
   ]
  },
  {
   "cell_type": "code",
   "execution_count": 59,
   "metadata": {},
   "outputs": [
    {
     "name": "stdout",
     "output_type": "stream",
     "text": [
      "Average intensity: 0.39639122339509897\n"
     ]
    }
   ],
   "source": [
    "average = 0;\n",
    "sumation = 0;\n",
    "count = 0;\n",
    "for imageNum in range(320):\n",
    "    for row in range(28):\n",
    "        for column in range(28):\n",
    "            sumation += x_train[imageNum][row][column]\n",
    "            count += 1\n",
    "\n",
    "average = sumation / count\n",
    "print('Average intensity: {}'.format(sumation / count))\n",
    "\n",
    "#subtract from training\n",
    "for imageNum in range(320):\n",
    "    for row in range(28):\n",
    "        for column in range(28):\n",
    "            x_train[imageNum][row][column] -= average\n",
    "            \n",
    "#subtract from verify\n",
    "for imageNum in range(40):\n",
    "    for row in range(28):\n",
    "        for column in range(28):\n",
    "            x_val[imageNum][row][column] -= average\n",
    "            \n",
    "#subtract from test\n",
    "for imageNum in range(40):\n",
    "    for row in range(28):\n",
    "        for column in range(28):\n",
    "            x_test[imageNum][row][column] -= average"
   ]
  },
  {
   "cell_type": "markdown",
   "metadata": {},
   "source": [
    "### Step 3: Set up a LeNet-style neural network for multi-class classification.\n",
    "\n",
    "The model should have these layers in order:\n",
    "\n",
    "* 20 5x5 Convolutions\n",
    "* 2x2 Max Pooling with stride of 2\n",
    "* 50 5x5 Convolutions\n",
    "* 2x2 Max Pooling with stride of 2\n",
    "* Fully connected layer: 512 outputs with ReLU activation\n",
    "* Fully connected layer: 40 outputs (one per identity class) with Softmax activation\n",
    "\n",
    "        print(model.summary())\n",
    "\n",
    "will print a text summary of the model."
   ]
  },
  {
   "cell_type": "code",
   "execution_count": 60,
   "metadata": {},
   "outputs": [
    {
     "name": "stdout",
     "output_type": "stream",
     "text": [
      "_________________________________________________________________\n",
      "Layer (type)                 Output Shape              Param #   \n",
      "=================================================================\n",
      "input_10 (InputLayer)        (None, 28, 28)            0         \n",
      "_________________________________________________________________\n",
      "reshape_10 (Reshape)         (None, 28, 28, 1)         0         \n",
      "_________________________________________________________________\n",
      "conv2d_14 (Conv2D)           (None, 28, 28, 20)        520       \n",
      "_________________________________________________________________\n",
      "max_pooling2d_10 (MaxPooling (None, 14, 14, 20)        0         \n",
      "_________________________________________________________________\n",
      "conv2d_15 (Conv2D)           (None, 14, 14, 50)        25050     \n",
      "_________________________________________________________________\n",
      "max_pooling2d_11 (MaxPooling (None, 7, 7, 50)          0         \n",
      "_________________________________________________________________\n",
      "flatten_3 (Flatten)          (None, 2450)              0         \n",
      "_________________________________________________________________\n",
      "dense_8 (Dense)              (None, 512)               1254912   \n",
      "_________________________________________________________________\n",
      "dense_9 (Dense)              (None, 40)                20520     \n",
      "=================================================================\n",
      "Total params: 1,301,002\n",
      "Trainable params: 1,301,002\n",
      "Non-trainable params: 0\n",
      "_________________________________________________________________\n",
      "None\n"
     ]
    }
   ],
   "source": [
    "from keras.models import Model\n",
    "from keras.layers import Input, Conv2D, MaxPooling2D, Flatten, Dense, Reshape\n",
    "\n",
    "x_in = Input(x_train.shape[1:])\n",
    "x = Reshape((x_train.shape[1],x_train.shape[2],1))(x_in) # Add an extra dimension to be compatible with Conv2D\n",
    "# add more layers here\n",
    "x = Conv2D(20, (5, 5), padding='same')(x)\n",
    "x = MaxPooling2D((2, 2), 2)(x)\n",
    "x = Conv2D(50, (5, 5), padding='same')(x)\n",
    "x = MaxPooling2D((2, 2), 2)(x)\n",
    "x = Flatten()(x)\n",
    "x = Dense(512,activation='relu')(x)\n",
    "x = Dense(40,activation='softmax')(x)\n",
    "model = Model(inputs=x_in,outputs=x)\n",
    "\n",
    "print(model.summary())"
   ]
  },
  {
   "cell_type": "markdown",
   "metadata": {},
   "source": [
    "### Step 4: Train the model on the training data.\n",
    "Use the 'categorical_crossentropy' loss from Keras -- this is the cross-entropy loss for multi-class classification with Softmax.\n",
    "\n",
    "Use the SGD optimizer with a learning rate of 1e-2, 60 epochs, and a batch size of 32.\n",
    "\n",
    "Pass the validation data as well and tell the model to compute the 'categorical_accuracy' metric."
   ]
  },
  {
   "cell_type": "code",
   "execution_count": 61,
   "metadata": {},
   "outputs": [
    {
     "name": "stdout",
     "output_type": "stream",
     "text": [
      "Train on 320 samples, validate on 40 samples\n",
      "Epoch 1/60\n",
      "320/320 [==============================] - 0s - loss: 3.6893 - categorical_accuracy: 0.0344 - val_loss: 3.6873 - val_categorical_accuracy: 0.0500\n",
      "Epoch 2/60\n",
      "320/320 [==============================] - 0s - loss: 3.6842 - categorical_accuracy: 0.0406 - val_loss: 3.6831 - val_categorical_accuracy: 0.0500\n",
      "Epoch 3/60\n",
      "320/320 [==============================] - 0s - loss: 3.6794 - categorical_accuracy: 0.0438 - val_loss: 3.6791 - val_categorical_accuracy: 0.0500\n",
      "Epoch 4/60\n",
      "320/320 [==============================] - 0s - loss: 3.6750 - categorical_accuracy: 0.0469 - val_loss: 3.6750 - val_categorical_accuracy: 0.0500\n",
      "Epoch 5/60\n",
      "320/320 [==============================] - 0s - loss: 3.6702 - categorical_accuracy: 0.0531 - val_loss: 3.6708 - val_categorical_accuracy: 0.0750\n",
      "Epoch 6/60\n",
      "320/320 [==============================] - 0s - loss: 3.6656 - categorical_accuracy: 0.0625 - val_loss: 3.6666 - val_categorical_accuracy: 0.0750\n",
      "Epoch 7/60\n",
      "320/320 [==============================] - 0s - loss: 3.6609 - categorical_accuracy: 0.0594 - val_loss: 3.6622 - val_categorical_accuracy: 0.0750\n",
      "Epoch 8/60\n",
      "320/320 [==============================] - 0s - loss: 3.6562 - categorical_accuracy: 0.0656 - val_loss: 3.6575 - val_categorical_accuracy: 0.0750\n",
      "Epoch 9/60\n",
      "320/320 [==============================] - 0s - loss: 3.6512 - categorical_accuracy: 0.0719 - val_loss: 3.6527 - val_categorical_accuracy: 0.1000\n",
      "Epoch 10/60\n",
      "320/320 [==============================] - 0s - loss: 3.6452 - categorical_accuracy: 0.0781 - val_loss: 3.6475 - val_categorical_accuracy: 0.1000\n",
      "Epoch 11/60\n",
      "320/320 [==============================] - 0s - loss: 3.6396 - categorical_accuracy: 0.0750 - val_loss: 3.6419 - val_categorical_accuracy: 0.1000\n",
      "Epoch 12/60\n",
      "320/320 [==============================] - 0s - loss: 3.6330 - categorical_accuracy: 0.0906 - val_loss: 3.6357 - val_categorical_accuracy: 0.1000\n",
      "Epoch 13/60\n",
      "320/320 [==============================] - 0s - loss: 3.6259 - categorical_accuracy: 0.0938 - val_loss: 3.6288 - val_categorical_accuracy: 0.1000\n",
      "Epoch 14/60\n",
      "320/320 [==============================] - 0s - loss: 3.6183 - categorical_accuracy: 0.1094 - val_loss: 3.6210 - val_categorical_accuracy: 0.1250\n",
      "Epoch 15/60\n",
      "320/320 [==============================] - 0s - loss: 3.6094 - categorical_accuracy: 0.1219 - val_loss: 3.6124 - val_categorical_accuracy: 0.1250\n",
      "Epoch 16/60\n",
      "320/320 [==============================] - 0s - loss: 3.5992 - categorical_accuracy: 0.1094 - val_loss: 3.6024 - val_categorical_accuracy: 0.1250\n",
      "Epoch 17/60\n",
      "320/320 [==============================] - 0s - loss: 3.5882 - categorical_accuracy: 0.1250 - val_loss: 3.5909 - val_categorical_accuracy: 0.1500\n",
      "Epoch 18/60\n",
      "320/320 [==============================] - 0s - loss: 3.5755 - categorical_accuracy: 0.1406 - val_loss: 3.5777 - val_categorical_accuracy: 0.1750\n",
      "Epoch 19/60\n",
      "320/320 [==============================] - 0s - loss: 3.5601 - categorical_accuracy: 0.1687 - val_loss: 3.5625 - val_categorical_accuracy: 0.1750\n",
      "Epoch 20/60\n",
      "320/320 [==============================] - 0s - loss: 3.5430 - categorical_accuracy: 0.1906 - val_loss: 3.5445 - val_categorical_accuracy: 0.2000\n",
      "Epoch 21/60\n",
      "320/320 [==============================] - 0s - loss: 3.5227 - categorical_accuracy: 0.2062 - val_loss: 3.5233 - val_categorical_accuracy: 0.2000\n",
      "Epoch 22/60\n",
      "320/320 [==============================] - 0s - loss: 3.4977 - categorical_accuracy: 0.2188 - val_loss: 3.4981 - val_categorical_accuracy: 0.2250\n",
      "Epoch 23/60\n",
      "320/320 [==============================] - 0s - loss: 3.4694 - categorical_accuracy: 0.2406 - val_loss: 3.4673 - val_categorical_accuracy: 0.2500\n",
      "Epoch 24/60\n",
      "320/320 [==============================] - 0s - loss: 3.4329 - categorical_accuracy: 0.2344 - val_loss: 3.4301 - val_categorical_accuracy: 0.2750\n",
      "Epoch 25/60\n",
      "320/320 [==============================] - 0s - loss: 3.3900 - categorical_accuracy: 0.2625 - val_loss: 3.3849 - val_categorical_accuracy: 0.3250\n",
      "Epoch 26/60\n",
      "320/320 [==============================] - 0s - loss: 3.3366 - categorical_accuracy: 0.2906 - val_loss: 3.3284 - val_categorical_accuracy: 0.3250\n",
      "Epoch 27/60\n",
      "320/320 [==============================] - 0s - loss: 3.2695 - categorical_accuracy: 0.3312 - val_loss: 3.2576 - val_categorical_accuracy: 0.3250\n",
      "Epoch 28/60\n",
      "320/320 [==============================] - 0s - loss: 3.1882 - categorical_accuracy: 0.3438 - val_loss: 3.1695 - val_categorical_accuracy: 0.3500\n",
      "Epoch 29/60\n",
      "320/320 [==============================] - 0s - loss: 3.0864 - categorical_accuracy: 0.3906 - val_loss: 3.0614 - val_categorical_accuracy: 0.3750\n",
      "Epoch 30/60\n",
      "320/320 [==============================] - 0s - loss: 2.9615 - categorical_accuracy: 0.4375 - val_loss: 2.9311 - val_categorical_accuracy: 0.3500\n",
      "Epoch 31/60\n",
      "320/320 [==============================] - 0s - loss: 2.8111 - categorical_accuracy: 0.4719 - val_loss: 2.7779 - val_categorical_accuracy: 0.4000\n",
      "Epoch 32/60\n",
      "320/320 [==============================] - 0s - loss: 2.6464 - categorical_accuracy: 0.4625 - val_loss: 2.6083 - val_categorical_accuracy: 0.4500\n",
      "Epoch 33/60\n",
      "320/320 [==============================] - 0s - loss: 2.4552 - categorical_accuracy: 0.5563 - val_loss: 2.4245 - val_categorical_accuracy: 0.5000\n",
      "Epoch 34/60\n",
      "320/320 [==============================] - 0s - loss: 2.2475 - categorical_accuracy: 0.6156 - val_loss: 2.2332 - val_categorical_accuracy: 0.6000\n",
      "Epoch 35/60\n",
      "320/320 [==============================] - 0s - loss: 2.0452 - categorical_accuracy: 0.6656 - val_loss: 2.0468 - val_categorical_accuracy: 0.5000\n",
      "Epoch 36/60\n",
      "320/320 [==============================] - 0s - loss: 1.8458 - categorical_accuracy: 0.6250 - val_loss: 1.8669 - val_categorical_accuracy: 0.6750\n",
      "Epoch 37/60\n",
      "320/320 [==============================] - 0s - loss: 1.6396 - categorical_accuracy: 0.7344 - val_loss: 1.6974 - val_categorical_accuracy: 0.6500\n",
      "Epoch 38/60\n",
      "320/320 [==============================] - 0s - loss: 1.4530 - categorical_accuracy: 0.7656 - val_loss: 1.5516 - val_categorical_accuracy: 0.6250\n",
      "Epoch 39/60\n",
      "320/320 [==============================] - 0s - loss: 1.3022 - categorical_accuracy: 0.7750 - val_loss: 1.4124 - val_categorical_accuracy: 0.6000\n",
      "Epoch 40/60\n",
      "320/320 [==============================] - 0s - loss: 1.1230 - categorical_accuracy: 0.8000 - val_loss: 1.2754 - val_categorical_accuracy: 0.7250\n",
      "Epoch 41/60\n",
      "320/320 [==============================] - 0s - loss: 0.9866 - categorical_accuracy: 0.8500 - val_loss: 1.2414 - val_categorical_accuracy: 0.6750\n",
      "Epoch 42/60\n",
      "320/320 [==============================] - 0s - loss: 0.8818 - categorical_accuracy: 0.8562 - val_loss: 1.0792 - val_categorical_accuracy: 0.7250\n",
      "Epoch 43/60\n",
      "320/320 [==============================] - 0s - loss: 0.7506 - categorical_accuracy: 0.8812 - val_loss: 0.9530 - val_categorical_accuracy: 0.8250\n",
      "Epoch 44/60\n",
      "320/320 [==============================] - 0s - loss: 0.6540 - categorical_accuracy: 0.8938 - val_loss: 0.9366 - val_categorical_accuracy: 0.7000\n",
      "Epoch 45/60\n",
      "320/320 [==============================] - 0s - loss: 0.5940 - categorical_accuracy: 0.8906 - val_loss: 0.8389 - val_categorical_accuracy: 0.7750\n",
      "Epoch 46/60\n",
      "320/320 [==============================] - 0s - loss: 0.5276 - categorical_accuracy: 0.9219 - val_loss: 0.7750 - val_categorical_accuracy: 0.7500\n",
      "Epoch 47/60\n",
      "320/320 [==============================] - 0s - loss: 0.4700 - categorical_accuracy: 0.9344 - val_loss: 0.7221 - val_categorical_accuracy: 0.8250\n",
      "Epoch 48/60\n",
      "320/320 [==============================] - 0s - loss: 0.4018 - categorical_accuracy: 0.9437 - val_loss: 0.5720 - val_categorical_accuracy: 0.9500\n",
      "Epoch 49/60\n",
      "320/320 [==============================] - 0s - loss: 0.3557 - categorical_accuracy: 0.9563 - val_loss: 0.5711 - val_categorical_accuracy: 0.8750\n",
      "Epoch 50/60\n",
      "320/320 [==============================] - 0s - loss: 0.2922 - categorical_accuracy: 0.9844 - val_loss: 0.5092 - val_categorical_accuracy: 0.9000\n",
      "Epoch 51/60\n",
      "320/320 [==============================] - 0s - loss: 0.2638 - categorical_accuracy: 0.9875 - val_loss: 0.5300 - val_categorical_accuracy: 0.8750\n",
      "Epoch 52/60\n"
     ]
    },
    {
     "name": "stdout",
     "output_type": "stream",
     "text": [
      "320/320 [==============================] - 0s - loss: 0.2435 - categorical_accuracy: 0.9938 - val_loss: 0.4607 - val_categorical_accuracy: 0.9000\n",
      "Epoch 53/60\n",
      "320/320 [==============================] - 0s - loss: 0.2361 - categorical_accuracy: 0.9781 - val_loss: 0.4755 - val_categorical_accuracy: 0.9250\n",
      "Epoch 54/60\n",
      "320/320 [==============================] - 0s - loss: 0.2129 - categorical_accuracy: 0.9812 - val_loss: 0.4142 - val_categorical_accuracy: 0.8750\n",
      "Epoch 55/60\n",
      "320/320 [==============================] - 0s - loss: 0.1658 - categorical_accuracy: 0.9938 - val_loss: 0.3588 - val_categorical_accuracy: 0.9500\n",
      "Epoch 56/60\n",
      "320/320 [==============================] - 0s - loss: 0.1484 - categorical_accuracy: 0.9938 - val_loss: 0.3286 - val_categorical_accuracy: 0.9500\n",
      "Epoch 57/60\n",
      "320/320 [==============================] - 0s - loss: 0.1477 - categorical_accuracy: 0.9938 - val_loss: 0.3631 - val_categorical_accuracy: 0.9000\n",
      "Epoch 58/60\n",
      "320/320 [==============================] - 0s - loss: 0.1266 - categorical_accuracy: 1.0000 - val_loss: 0.3374 - val_categorical_accuracy: 0.9000\n",
      "Epoch 59/60\n",
      "320/320 [==============================] - 0s - loss: 0.1268 - categorical_accuracy: 0.9938 - val_loss: 0.3183 - val_categorical_accuracy: 0.9500\n",
      "Epoch 60/60\n",
      "320/320 [==============================] - 0s - loss: 0.1133 - categorical_accuracy: 1.0000 - val_loss: 0.2811 - val_categorical_accuracy: 0.9500\n"
     ]
    }
   ],
   "source": [
    "from keras.optimizers import SGD\n",
    "\n",
    "model.compile(loss='categorical_crossentropy',\n",
    "              optimizer=SGD(lr=0.01),\n",
    "              metrics=['categorical_accuracy'])\n",
    "\n",
    "history = model.fit(x_train, y_train,\n",
    "                    batch_size=32,\n",
    "                    epochs=60,\n",
    "                    verbose=1,\n",
    "                    validation_data=(x_test, y_test))"
   ]
  },
  {
   "cell_type": "markdown",
   "metadata": {},
   "source": [
    "### Step 5: Plot the progress of loss and accuracy during training.\n",
    "The mnist demo script shows an example of how to do this."
   ]
  },
  {
   "cell_type": "code",
   "execution_count": 62,
   "metadata": {},
   "outputs": [
    {
     "data": {
      "image/png": "[encoded data removed]",
      "text/plain": [
       "<matplotlib.figure.Figure at 0x239eac3cc50>"
      ]
     },
     "metadata": {},
     "output_type": "display_data"
    },
    {
     "data": {
      "image/png": "[encoded data removed]",
      "text/plain": [
       "<matplotlib.figure.Figure at 0x239e9a45400>"
      ]
     },
     "metadata": {},
     "output_type": "display_data"
    }
   ],
   "source": [
    "plt.plot(history.history['loss'])\n",
    "plt.plot(history.history['val_loss'])\n",
    "plt.legend(['Training Loss','Testing Loss'])\n",
    "plt.xlabel('Epoch')\n",
    "plt.ylabel('Loss')\n",
    "plt.show()\n",
    "\n",
    "plt.plot(history.history['categorical_accuracy'])\n",
    "plt.plot(history.history['val_categorical_accuracy'])\n",
    "plt.legend(['Training Accuracy','Testing Accuracy'])\n",
    "plt.xlabel('Epoch')\n",
    "plt.ylabel('Accuracy')\n",
    "plt.show()"
   ]
  },
  {
   "cell_type": "markdown",
   "metadata": {},
   "source": [
    "### Step 6: Calculate accuracy on the training, validation and testing data.\n",
    "Keras function model.evaluate() will calculate the accuracy for you, if you used the 'categorical_accuracy' as indicated above.\n",
    "\n",
    "You may not get exactly the same accuracy values as provided in the example output.  This is because the network is initialized randomly."
   ]
  },
  {
   "cell_type": "code",
   "execution_count": 65,
   "metadata": {},
   "outputs": [
    {
     "name": "stdout",
     "output_type": "stream",
     "text": [
      "32/40 [=======================>......] - ETA: 0s0s\n",
      "\n",
      "Training:  100.0 %\n",
      "Validation:  95.0 %\n",
      "Testing:  95.0 %\n"
     ]
    }
   ],
   "source": [
    "trash, train = model.evaluate(x_train, y_train)\n",
    "trash, val = model.evaluate(x_val, y_val)\n",
    "trash, test = model.evaluate(x_test, y_test)\n",
    "\n",
    "print(); print()\n",
    "print(\"Training: \", train * 100, \"%\")\n",
    "print(\"Validation: \", val * 100, \"%\")\n",
    "print(\"Testing: \", test * 100, \"%\")"
   ]
  },
  {
   "cell_type": "code",
   "execution_count": null,
   "metadata": {
    "collapsed": true
   },
   "outputs": [],
   "source": []
  }
 ],
 "metadata": {
  "kernelspec": {
   "display_name": "Python 3",
   "language": "python",
   "name": "python3"
  },
  "language_info": {
   "codemirror_mode": {
    "name": "ipython",
    "version": 3
   },
   "file_extension": ".py",
   "mimetype": "text/x-python",
   "name": "python",
   "nbconvert_exporter": "python",
   "pygments_lexer": "ipython3",
   "version": "3.6.1"
  }
 },
 "nbformat": 4,
 "nbformat_minor": 2
}
