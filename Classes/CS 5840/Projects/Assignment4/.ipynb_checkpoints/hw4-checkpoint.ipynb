{
 "cells": [
  {
   "cell_type": "code",
   "execution_count": null,
   "metadata": {
    "collapsed": true
   },
   "outputs": [],
   "source": [
    "import keras\n",
    "import numpy as np\n",
    "import matplotlib as mpl\n",
    "from matplotlib import pyplot as plt"
   ]
  },
  {
   "cell_type": "markdown",
   "metadata": {},
   "source": [
    "### Step 1: Load the att_faces dataset.\n",
    "A data loading function is already provided in loader.py.  It uses the first 8 images for each identity as training images; the 9th image for validation, and the 10th image for testing.  The images are downsampled and padded to have size 28x28 (same as MNIST)."
   ]
  },
  {
   "cell_type": "code",
   "execution_count": null,
   "metadata": {
    "collapsed": true
   },
   "outputs": [],
   "source": []
  },
  {
   "cell_type": "markdown",
   "metadata": {},
   "source": [
    "### Step 2: Calculate the average intensity for the training images and subtract it from all images."
   ]
  },
  {
   "cell_type": "code",
   "execution_count": null,
   "metadata": {
    "collapsed": true
   },
   "outputs": [],
   "source": []
  },
  {
   "cell_type": "markdown",
   "metadata": {},
   "source": [
    "### Step 3: Set up a LeNet-style neural network for multi-class classification.\n",
    "\n",
    "The model should have these layers in order:\n",
    "\n",
    "* 20 5x5 Convolutions\n",
    "* 2x2 Max Pooling with stride of 2\n",
    "* 50 5x5 Convolutions\n",
    "* 2x2 Max Pooling with stride of 2\n",
    "* Fully connected layer: 512 outputs with ReLU activation\n",
    "* Fully connected layer: 40 outputs (one per identity class) with Softmax activation\n",
    "\n",
    "        print(model.summary())\n",
    "\n",
    "will print a text summary of the model."
   ]
  },
  {
   "cell_type": "code",
   "execution_count": null,
   "metadata": {
    "collapsed": true
   },
   "outputs": [],
   "source": [
    "from keras.models import Model\n",
    "from keras.layers import Input, Conv2D, MaxPooling2D, Flatten, Dense, Reshape\n",
    "\n",
    "x_in = Input(x_train.shape[1:])\n",
    "x = Reshape((x_train.shape[1],x_train.shape[2],1))(x_in) # Add an extra dimension to be compatible with Conv2D\n",
    "# add more layers here"
   ]
  },
  {
   "cell_type": "markdown",
   "metadata": {},
   "source": [
    "### Step 4: Train the model on the training data.\n",
    "Use the 'categorical_crossentropy' loss from Keras -- this is the cross-entropy loss for multi-class classification with Softmax.\n",
    "\n",
    "Use the SGD optimizer with a learning rate of 1e-2, 60 epochs, and a batch size of 32.\n",
    "\n",
    "Pass the validation data as well and tell the model to compute the 'categorical_accuracy' metric."
   ]
  },
  {
   "cell_type": "code",
   "execution_count": null,
   "metadata": {
    "collapsed": true
   },
   "outputs": [],
   "source": []
  },
  {
   "cell_type": "markdown",
   "metadata": {},
   "source": [
    "### Step 5: Plot the progress of loss and accuracy during training.\n",
    "The mnist demo script shows an example of how to do this."
   ]
  },
  {
   "cell_type": "code",
   "execution_count": null,
   "metadata": {
    "collapsed": true
   },
   "outputs": [],
   "source": []
  },
  {
   "cell_type": "markdown",
   "metadata": {},
   "source": [
    "### Step 6: Calculate accuracy on the training, validation and testing data.\n",
    "Keras function model.evaluate() will calculate the accuracy for you, if you used the 'categorical_accuracy' as indicated above.\n",
    "\n",
    "You may not get exactly the same accuracy values as provided in the example output.  This is because the network is initialized randomly."
   ]
  },
  {
   "cell_type": "code",
   "execution_count": null,
   "metadata": {
    "collapsed": true
   },
   "outputs": [],
   "source": []
  }
 ],
 "metadata": {
  "kernelspec": {
   "display_name": "Python 3",
   "language": "python",
   "name": "python3"
  },
  "language_info": {
   "codemirror_mode": {
    "name": "ipython",
    "version": 3
   },
   "file_extension": ".py",
   "mimetype": "text/x-python",
   "name": "python",
   "nbconvert_exporter": "python",
   "pygments_lexer": "ipython3",
   "version": "3.6.1"
  }
 },
 "nbformat": 4,
 "nbformat_minor": 2
}
